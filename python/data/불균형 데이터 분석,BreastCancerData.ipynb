{
 "cells": [
  {
   "cell_type": "code",
   "execution_count": 49,
   "id": "4ce23ca0",
   "metadata": {},
   "outputs": [
    {
     "name": "stderr",
     "output_type": "stream",
     "text": [
      "Downloading GitHub repo rstudio/keras@HEAD\n",
      "\n"
     ]
    },
    {
     "name": "stdout",
     "output_type": "stream",
     "text": [
      "config     (NA -> 0.3.1) [CRAN]\n",
      "tfruns     (NA -> 1.5.0) [CRAN]\n",
      "zeallot    (NA -> 0.1.0) [CRAN]\n",
      "tensorflow (NA -> 2.5.0) [CRAN]\n"
     ]
    },
    {
     "name": "stderr",
     "output_type": "stream",
     "text": [
      "Installing 4 packages: config, tfruns, zeallot, tensorflow\n",
      "\n",
      "‘/opt/homebrew/lib/R/4.1/site-library’의 위치에 패키지(들)을 설치합니다.\n",
      "(왜냐하면 ‘lib’가 지정되지 않았기 때문입니다)\n",
      "\n"
     ]
    },
    {
     "name": "stdout",
     "output_type": "stream",
     "text": [
      "\u001b[32m✔\u001b[39m  \u001b[90mchecking for file ‘/private/var/folders/nn/zh17jn6d2q1c45wd419872qw0000gn/T/RtmpupTZJ7/remotes2fed458acb97/rstudio-keras-36dc8b7/DESCRIPTION’\u001b[39m\u001b[36m\u001b[39m\n",
      "\u001b[90m─\u001b[39m\u001b[90m  \u001b[39m\u001b[90mpreparing ‘keras’:\u001b[39m\u001b[36m\u001b[36m (404ms)\u001b[36m\u001b[39m\n",
      "\u001b[32m✔\u001b[39m  \u001b[90mchecking DESCRIPTION meta-information\u001b[39m\u001b[36m\u001b[39m\n",
      "\u001b[90m─\u001b[39m\u001b[90m  \u001b[39m\u001b[90mchecking for LF line-endings in source and make files and shell scripts\u001b[39m\u001b[36m\u001b[39m\n",
      "\u001b[90m─\u001b[39m\u001b[90m  \u001b[39m\u001b[90mchecking for empty or unneeded directories\u001b[39m\u001b[36m\u001b[39m\n",
      "   Removed empty directory ‘keras/man-roxygen’\n",
      "\u001b[90m─\u001b[39m\u001b[90m  \u001b[39m\u001b[90mbuilding ‘keras_2.4.0.9000.tar.gz’\u001b[39m\u001b[36m\u001b[39m\n",
      "   \n",
      "\r"
     ]
    },
    {
     "name": "stderr",
     "output_type": "stream",
     "text": [
      "‘/opt/homebrew/lib/R/4.1/site-library’의 위치에 패키지(들)을 설치합니다.\n",
      "(왜냐하면 ‘lib’가 지정되지 않았기 때문입니다)\n",
      "\n"
     ]
    }
   ],
   "source": [
    "library(mlbench)\n",
    "library(caret)\n",
    "library(dplyr)\n",
    "library(party)\n",
    "library(rpart)\n",
    "library(e1071)\n",
    "library(randomForest)\n",
    "library(ROSE)\n",
    "devtools::install_github(\"rstudio/keras\")"
   ]
  },
  {
   "cell_type": "code",
   "execution_count": 55,
   "id": "2222dfee",
   "metadata": {},
   "outputs": [
    {
     "name": "stdout",
     "output_type": "stream",
     "text": [
      "'data.frame':\t699 obs. of  10 variables:\n",
      " $ Cl.thickness   : Ord.factor w/ 10 levels \"1\"<\"2\"<\"3\"<\"4\"<..: 5 5 3 6 4 8 1 2 2 4 ...\n",
      " $ Cell.size      : Ord.factor w/ 10 levels \"1\"<\"2\"<\"3\"<\"4\"<..: 1 4 1 8 1 10 1 1 1 2 ...\n",
      " $ Cell.shape     : Ord.factor w/ 10 levels \"1\"<\"2\"<\"3\"<\"4\"<..: 1 4 1 8 1 10 1 2 1 1 ...\n",
      " $ Marg.adhesion  : Ord.factor w/ 10 levels \"1\"<\"2\"<\"3\"<\"4\"<..: 1 5 1 1 3 8 1 1 1 1 ...\n",
      " $ Epith.c.size   : Ord.factor w/ 10 levels \"1\"<\"2\"<\"3\"<\"4\"<..: 2 7 2 3 2 7 2 2 2 2 ...\n",
      " $ Bare.nuclei    : Factor w/ 10 levels \"1\",\"2\",\"3\",\"4\",..: 1 10 2 4 1 10 10 1 1 1 ...\n",
      " $ Bl.cromatin    : Factor w/ 10 levels \"1\",\"2\",\"3\",\"4\",..: 3 3 3 3 3 9 3 3 1 2 ...\n",
      " $ Normal.nucleoli: Factor w/ 10 levels \"1\",\"2\",\"3\",\"4\",..: 1 2 1 7 1 7 1 1 1 1 ...\n",
      " $ Mitoses        : Factor w/ 9 levels \"1\",\"2\",\"3\",\"4\",..: 1 1 1 1 1 1 1 1 5 1 ...\n",
      " $ Class          : Factor w/ 2 levels \"benign\",\"malignant\": 1 1 1 1 1 2 1 1 1 1 ...\n"
     ]
    }
   ],
   "source": [
    "data(BreastCancer)\n",
    "BreastCancer = BreastCancer %>% select(-Id)\n",
    "str(BreastCancer)"
   ]
  },
  {
   "cell_type": "code",
   "execution_count": 52,
   "id": "6f847712",
   "metadata": {},
   "outputs": [
    {
     "data": {
      "text/plain": [
       "\n",
       "   benign malignant \n",
       "      458       241 "
      ]
     },
     "metadata": {},
     "output_type": "display_data"
    }
   ],
   "source": [
    "table(BreastCancer$Class)"
   ]
  },
  {
   "cell_type": "markdown",
   "id": "9f88b70a",
   "metadata": {},
   "source": [
    "위 결과를 통해 benign와 malignant 사이에 어느 정도 불균형이 존재한다고 할 수 있다.\n",
    "> 불균형이 존재하면, 모형 구축시 가중치가 한쪽으로 쏠리는 문제가 발생하기 때문에 이를 보완하는 작업을 진행해야한다. 만약에 모형이 100% benign로 분류한다고 생각해보자. 그래도 60% 이상의 정확도를 확보할 수 있다. 즉 이럴 경우 매우 심각한 사태를 야기시킬 수 있기 때문에, 해당 문제를 극복할 여러 방법이 존재한다.\n",
    "\n",
    "이러한 클래스 불균형을 해결하는 방법으로는\n",
    "- 1. class가 적은 데이터에 더 큰 가중치를 주는 방법\n",
    "- 2. 데이터가 더 적은 쪽으로 잘못 분류했을 때 큰 비용을 주는 방법\n",
    "등이 있다. 모형을 구축해주는 함수의 parameter, loss, cost 인자로 이런 값을 지정할 수 있다.\n",
    "\n",
    "또 다른 방법으로는 아에 훈련 데이터 셋을 조작하는 방법이다. 조작이라고 하여 매우 안좋게 볼 수 있겠지만, 이 또한 보다 좋은 모형을 만들기 위해서 사용하는 방법 중 하나이다. 이를 upsampling, downsampling, SMOTE(Synthetic Minority Technique), ROSE 등이 있다."
   ]
  },
  {
   "cell_type": "markdown",
   "id": "41358909",
   "metadata": {},
   "source": [
    "### Up Sampling, Down Sampling\n",
    "\n",
    "Up Sampling은 class가 적은 데이터를 표본으로 더 많이 뽑는 방법이며, Down Sampling은 그 반대(데이터가 많은 쪽을 더 많이 뽑음)이다.\n",
    "이를 사용하기 위해서는 caret package의 upSample(), downSample()이 이러한 표본 추출 방법을 지원하며 ROSE 패키지의 ovun.sample()를 통해 직접 upSample, downSample, SMOTE, ROSE 등 옵션을 선택하여 원하는 샘플링을 결정할 수 있다."
   ]
  },
  {
   "cell_type": "code",
   "execution_count": 53,
   "id": "3fd1dbdd",
   "metadata": {},
   "outputs": [],
   "source": [
    "benign_data = BreastCancer %>% select(-Class)\n",
    "subset_data = subset(BreastCancer, select=-Class)"
   ]
  },
  {
   "cell_type": "code",
   "execution_count": 54,
   "id": "d6fa46ff",
   "metadata": {},
   "outputs": [],
   "source": [
    "# upSample(x, y) => x:독립변수, y:종속변수\n",
    "upSample_data = upSample(benign_data, BreastCancer$Class)\n",
    "overSample_data = ovun.sample(Class~., method = \"over\", N = 458*2, data = BreastCancer)$data"
   ]
  },
  {
   "cell_type": "code",
   "execution_count": 9,
   "id": "cae1e5f8",
   "metadata": {},
   "outputs": [
    {
     "data": {
      "text/plain": [
       "\n",
       "   benign malignant \n",
       "      458       458 "
      ]
     },
     "metadata": {},
     "output_type": "display_data"
    }
   ],
   "source": [
    "table(upSample_data$Class)"
   ]
  },
  {
   "cell_type": "code",
   "execution_count": 10,
   "id": "b880b5ed",
   "metadata": {},
   "outputs": [],
   "source": [
    "parts = createDataPartition(upSample_data$Class, p = .6)"
   ]
  },
  {
   "cell_type": "code",
   "execution_count": 11,
   "id": "8ff37b99",
   "metadata": {},
   "outputs": [
    {
     "name": "stdout",
     "output_type": "stream",
     "text": [
      "List of 1\n",
      " $ Resample1: int [1:550] 3 4 5 6 7 9 11 13 14 16 ...\n"
     ]
    }
   ],
   "source": [
    "str(parts)"
   ]
  },
  {
   "cell_type": "code",
   "execution_count": 12,
   "id": "f5333c68",
   "metadata": {},
   "outputs": [],
   "source": [
    "train = upSample_data[parts$Resample,]\n",
    "test = upSample_data[-parts$Resample,]"
   ]
  },
  {
   "cell_type": "code",
   "execution_count": 13,
   "id": "9e1051d6",
   "metadata": {},
   "outputs": [
    {
     "data": {
      "text/plain": [
       "Confusion Matrix and Statistics\n",
       "\n",
       "           Reference\n",
       "Prediction  benign malignant\n",
       "  benign       168        15\n",
       "  malignant      7       176\n",
       "                                         \n",
       "               Accuracy : 0.9399         \n",
       "                 95% CI : (0.9104, 0.962)\n",
       "    No Information Rate : 0.5219         \n",
       "    P-Value [Acc > NIR] : <2e-16         \n",
       "                                         \n",
       "                  Kappa : 0.8798         \n",
       "                                         \n",
       " Mcnemar's Test P-Value : 0.1356         \n",
       "                                         \n",
       "            Sensitivity : 0.9600         \n",
       "            Specificity : 0.9215         \n",
       "         Pos Pred Value : 0.9180         \n",
       "         Neg Pred Value : 0.9617         \n",
       "             Prevalence : 0.4781         \n",
       "         Detection Rate : 0.4590         \n",
       "   Detection Prevalence : 0.5000         \n",
       "      Balanced Accuracy : 0.9407         \n",
       "                                         \n",
       "       'Positive' Class : benign         \n",
       "                                         "
      ]
     },
     "metadata": {},
     "output_type": "display_data"
    }
   ],
   "source": [
    "res_tree = rpart(Class ~., data = train)\n",
    "confusionMatrix(test$Class, predict(res_tree, newdata=test %>% select(-Class), type=\"class\"))"
   ]
  },
  {
   "cell_type": "code",
   "execution_count": 14,
   "id": "c6ca5d73",
   "metadata": {},
   "outputs": [],
   "source": [
    "upSample_data = downSample(benign_data, BreastCancer$Class)"
   ]
  },
  {
   "cell_type": "code",
   "execution_count": 15,
   "id": "cf7391de",
   "metadata": {},
   "outputs": [
    {
     "data": {
      "text/plain": [
       "\n",
       "   benign malignant \n",
       "      241       241 "
      ]
     },
     "metadata": {},
     "output_type": "display_data"
    }
   ],
   "source": [
    "table(upSample_data$Class)"
   ]
  },
  {
   "cell_type": "code",
   "execution_count": 16,
   "id": "5426a5a3",
   "metadata": {},
   "outputs": [],
   "source": [
    "train = upSample_data[parts$Resample,]\n",
    "test = upSample_data[-parts$Resample,]"
   ]
  },
  {
   "cell_type": "code",
   "execution_count": 46,
   "id": "937d8af3",
   "metadata": {},
   "outputs": [
    {
     "data": {
      "text/plain": [
       "Confusion Matrix and Statistics\n",
       "\n",
       "           Reference\n",
       "Prediction  benign malignant\n",
       "  benign       168        15\n",
       "  malignant      7       176\n",
       "                                         \n",
       "               Accuracy : 0.9399         \n",
       "                 95% CI : (0.9104, 0.962)\n",
       "    No Information Rate : 0.5219         \n",
       "    P-Value [Acc > NIR] : <2e-16         \n",
       "                                         \n",
       "                  Kappa : 0.8798         \n",
       "                                         \n",
       " Mcnemar's Test P-Value : 0.1356         \n",
       "                                         \n",
       "            Sensitivity : 0.9600         \n",
       "            Specificity : 0.9215         \n",
       "         Pos Pred Value : 0.9180         \n",
       "         Neg Pred Value : 0.9617         \n",
       "             Prevalence : 0.4781         \n",
       "         Detection Rate : 0.4590         \n",
       "   Detection Prevalence : 0.5000         \n",
       "      Balanced Accuracy : 0.9407         \n",
       "                                         \n",
       "       'Positive' Class : benign         \n",
       "                                         "
      ]
     },
     "metadata": {},
     "output_type": "display_data"
    },
    {
     "data": {
      "text/plain": [
       "           f_res\n",
       "            benign malignant\n",
       "  benign       166        17\n",
       "  malignant      2       181"
      ]
     },
     "metadata": {},
     "output_type": "display_data"
    }
   ],
   "source": [
    "res_tree = rpart(Class ~., data = train)\n",
    "confusionMatrix(test$Class, predict(res_tree, newdata=test %>% select(-Class), type=\"class\"))\n",
    "table(test$Class, f_res)"
   ]
  },
  {
   "cell_type": "code",
   "execution_count": 19,
   "id": "faa2a5bb",
   "metadata": {},
   "outputs": [
    {
     "data": {
      "text/plain": [
       "\n",
       "   benign malignant \n",
       "      444       472 "
      ]
     },
     "metadata": {},
     "output_type": "display_data"
    }
   ],
   "source": [
    "table(overSample_data$Class)"
   ]
  },
  {
   "cell_type": "code",
   "execution_count": 20,
   "id": "a4ae21b5",
   "metadata": {},
   "outputs": [
    {
     "name": "stdout",
     "output_type": "stream",
     "text": [
      "'data.frame':\t916 obs. of  10 variables:\n",
      " $ Cl.thickness   : Ord.factor w/ 10 levels \"1\"<\"2\"<\"3\"<\"4\"<..: 5 5 3 6 4 1 2 2 4 1 ...\n",
      " $ Cell.size      : Ord.factor w/ 10 levels \"1\"<\"2\"<\"3\"<\"4\"<..: 1 4 1 8 1 1 1 1 2 1 ...\n",
      " $ Cell.shape     : Ord.factor w/ 10 levels \"1\"<\"2\"<\"3\"<\"4\"<..: 1 4 1 8 1 1 2 1 1 1 ...\n",
      " $ Marg.adhesion  : Ord.factor w/ 10 levels \"1\"<\"2\"<\"3\"<\"4\"<..: 1 5 1 1 3 1 1 1 1 1 ...\n",
      " $ Epith.c.size   : Ord.factor w/ 10 levels \"1\"<\"2\"<\"3\"<\"4\"<..: 2 7 2 3 2 2 2 2 2 1 ...\n",
      " $ Bare.nuclei    : Factor w/ 10 levels \"1\",\"2\",\"3\",\"4\",..: 1 10 2 4 1 10 1 1 1 1 ...\n",
      " $ Bl.cromatin    : Factor w/ 10 levels \"1\",\"2\",\"3\",\"4\",..: 3 3 3 3 3 3 3 1 2 3 ...\n",
      " $ Normal.nucleoli: Factor w/ 10 levels \"1\",\"2\",\"3\",\"4\",..: 1 2 1 7 1 1 1 1 1 1 ...\n",
      " $ Mitoses        : Factor w/ 9 levels \"1\",\"2\",\"3\",\"4\",..: 1 1 1 1 1 1 1 5 1 1 ...\n",
      " $ Class          : Factor w/ 2 levels \"benign\",\"malignant\": 1 1 1 1 1 1 1 1 1 1 ...\n"
     ]
    }
   ],
   "source": [
    "str(overSample_data)"
   ]
  },
  {
   "cell_type": "code",
   "execution_count": 37,
   "id": "5f4acfad",
   "metadata": {},
   "outputs": [],
   "source": [
    "res_overSample = rpart(Class ~ ., data=overSample_data)"
   ]
  },
  {
   "cell_type": "code",
   "execution_count": 40,
   "id": "81e81b10",
   "metadata": {},
   "outputs": [
    {
     "data": {
      "text/html": [
       "366"
      ],
      "text/latex": [
       "366"
      ],
      "text/markdown": [
       "366"
      ],
      "text/plain": [
       "[1] 366"
      ]
     },
     "metadata": {},
     "output_type": "display_data"
    },
    {
     "data": {
      "text/html": [
       "366"
      ],
      "text/latex": [
       "366"
      ],
      "text/markdown": [
       "366"
      ],
      "text/plain": [
       "[1] 366"
      ]
     },
     "metadata": {},
     "output_type": "display_data"
    }
   ],
   "source": [
    "pred_over = predict(res_overSample, newdata = test)\n",
    "length(pred_over[,2])\n",
    "nrow(test)"
   ]
  },
  {
   "cell_type": "code",
   "execution_count": 41,
   "id": "63cbc70a",
   "metadata": {},
   "outputs": [
    {
     "data": {
      "text/plain": [
       "Area under the curve (AUC): 0.954"
      ]
     },
     "metadata": {},
     "output_type": "display_data"
    }
   ],
   "source": [
    "roc.curve(test$Class, pred_over[,2], plot=FALSE)"
   ]
  },
  {
   "cell_type": "code",
   "execution_count": 43,
   "id": "69d6cf9b",
   "metadata": {},
   "outputs": [
    {
     "ename": "ERROR",
     "evalue": "Error in table(data, reference, dnn = dnn, ...): 모든 인자들은 반드시 같은 길이를 가져야 합니다\n",
     "output_type": "error",
     "traceback": [
      "Error in table(data, reference, dnn = dnn, ...): 모든 인자들은 반드시 같은 길이를 가져야 합니다\nTraceback:\n",
      "1. confusionMatrix(test$Class, f_res, type = \"class\")",
      "2. confusionMatrix.default(test$Class, f_res, type = \"class\")",
      "3. table(data, reference, dnn = dnn, ...)",
      "4. stop(\"all arguments must have the same length\")"
     ]
    }
   ],
   "source": [
    "confusionMatrix(test$Class, f_res, type=\"class\")"
   ]
  },
  {
   "cell_type": "code",
   "execution_count": 26,
   "id": "9d704cb9",
   "metadata": {},
   "outputs": [
    {
     "data": {
      "text/html": [
       "<style>\n",
       ".dl-inline {width: auto; margin:0; padding: 0}\n",
       ".dl-inline>dt, .dl-inline>dd {float: none; width: auto; display: inline-block}\n",
       ".dl-inline>dt::after {content: \":\\0020\"; padding-right: .5ex}\n",
       ".dl-inline>dt:not(:first-of-type) {padding-left: .5ex}\n",
       "</style><dl class=dl-inline><dt>1</dt><dd>0.00757575757575758</dd><dt>2</dt><dd>0.956709956709957</dd><dt>8</dt><dd>0.00757575757575758</dd><dt>10</dt><dd>0.00757575757575758</dd><dt>12</dt><dd>0.00757575757575758</dd><dt>15</dt><dd>0.00757575757575758</dd><dt>23</dt><dd>0.00757575757575758</dd><dt>29</dt><dd>0.00757575757575758</dd><dt>30</dt><dd>0.00757575757575758</dd><dt>36</dt><dd>0.00757575757575758</dd><dt>37</dt><dd>0.956709956709957</dd><dt>39</dt><dd>0.00757575757575758</dd><dt>42</dt><dd>0.00757575757575758</dd><dt>45</dt><dd>0.00757575757575758</dd><dt>47</dt><dd>0.00757575757575758</dd><dt>54</dt><dd>0.00757575757575758</dd><dt>56</dt><dd>0.00757575757575758</dd><dt>57</dt><dd>0.00757575757575758</dd><dt>58</dt><dd>0.00757575757575758</dd><dt>59</dt><dd>0.833333333333333</dd><dt>61</dt><dd>0</dd><dt>64</dt><dd>0.00757575757575758</dd><dt>65</dt><dd>0.00757575757575758</dd><dt>67</dt><dd>0.00757575757575758</dd><dt>70</dt><dd>0.00757575757575758</dd><dt>72</dt><dd>0.00757575757575758</dd><dt>74</dt><dd>0.00757575757575758</dd><dt>78</dt><dd>0.00757575757575758</dd><dt>80</dt><dd>0.00757575757575758</dd><dt>81</dt><dd>0</dd><dt>83</dt><dd>0.00757575757575758</dd><dt>85</dt><dd>0.00757575757575758</dd><dt>86</dt><dd>0.00757575757575758</dd><dt>87</dt><dd>0.00757575757575758</dd><dt>91</dt><dd>0.00757575757575758</dd><dt>94</dt><dd>0.00757575757575758</dd><dt>101</dt><dd>0.00757575757575758</dd><dt>103</dt><dd>0.00757575757575758</dd><dt>104</dt><dd>0.00757575757575758</dd><dt>105</dt><dd>0.00757575757575758</dd><dt>108</dt><dd>0.00757575757575758</dd><dt>112</dt><dd>0.00757575757575758</dd><dt>113</dt><dd>0.956709956709957</dd><dt>115</dt><dd>0.00757575757575758</dd><dt>121</dt><dd>0.00757575757575758</dd><dt>123</dt><dd>0.00757575757575758</dd><dt>125</dt><dd>0.00757575757575758</dd><dt>128</dt><dd>0.00757575757575758</dd><dt>129</dt><dd>0.00757575757575758</dd><dt>130</dt><dd>0.956709956709957</dd><dt>140</dt><dd>0.00757575757575758</dd><dt>142</dt><dd>0.956709956709957</dd><dt>143</dt><dd>0.00757575757575758</dd><dt>147</dt><dd>0.00757575757575758</dd><dt>152</dt><dd>0.00757575757575758</dd><dt>155</dt><dd>0.00757575757575758</dd><dt>156</dt><dd>0.00757575757575758</dd><dt>158</dt><dd>0.00757575757575758</dd><dt>159</dt><dd>0.00757575757575758</dd><dt>161</dt><dd>0.956709956709957</dd><dt>164</dt><dd>0.00757575757575758</dd><dt>166</dt><dd>0.00757575757575758</dd><dt>170</dt><dd>0.00757575757575758</dd><dt>171</dt><dd>0.00757575757575758</dd><dt>175</dt><dd>0.956709956709957</dd><dt>176</dt><dd>0.00757575757575758</dd><dt>178</dt><dd>0.00757575757575758</dd><dt>179</dt><dd>0.00757575757575758</dd><dt>180</dt><dd>0.00757575757575758</dd><dt>186</dt><dd>0.00757575757575758</dd><dt>187</dt><dd>0.00757575757575758</dd><dt>192</dt><dd>0.00757575757575758</dd><dt>194</dt><dd>0.956709956709957</dd><dt>196</dt><dd>0.00757575757575758</dd><dt>198</dt><dd>0.956709956709957</dd><dt>202</dt><dd>0.00757575757575758</dd><dt>203</dt><dd>0</dd><dt>205</dt><dd>0.00757575757575758</dd><dt>206</dt><dd>0.00757575757575758</dd><dt>208</dt><dd>0.00757575757575758</dd><dt>209</dt><dd>0.00757575757575758</dd><dt>210</dt><dd>0.00757575757575758</dd><dt>211</dt><dd>0.00757575757575758</dd><dt>212</dt><dd>0.956709956709957</dd><dt>217</dt><dd>0</dd><dt>219</dt><dd>0.00757575757575758</dd><dt>220</dt><dd>0.00757575757575758</dd><dt>224</dt><dd>0.00757575757575758</dd><dt>225</dt><dd>0.00757575757575758</dd><dt>227</dt><dd>0.00757575757575758</dd><dt>228</dt><dd>0.00757575757575758</dd><dt>232</dt><dd>0</dd><dt>237</dt><dd>0.833333333333333</dd><dt>238</dt><dd>0.00757575757575758</dd><dt>247</dt><dd>0.956709956709957</dd><dt>248</dt><dd>0.00757575757575758</dd><dt>249</dt><dd>0.00757575757575758</dd><dt>250</dt><dd>0.956709956709957</dd><dt>253</dt><dd>0</dd><dt>255</dt><dd>0.00757575757575758</dd><dt>256</dt><dd>0.00757575757575758</dd><dt>260</dt><dd>0.00757575757575758</dd><dt>261</dt><dd>0.894736842105263</dd><dt>262</dt><dd>0.00757575757575758</dd><dt>266</dt><dd>0.00757575757575758</dd><dt>267</dt><dd>0.00757575757575758</dd><dt>272</dt><dd>0</dd><dt>274</dt><dd>0.00757575757575758</dd><dt>275</dt><dd>0.00757575757575758</dd><dt>282</dt><dd>0.00757575757575758</dd><dt>285</dt><dd>0.00757575757575758</dd><dt>287</dt><dd>0.00757575757575758</dd><dt>288</dt><dd>0.00757575757575758</dd><dt>290</dt><dd>0.00757575757575758</dd><dt>291</dt><dd>0.00757575757575758</dd><dt>293</dt><dd>0.00757575757575758</dd><dt>296</dt><dd>0.00757575757575758</dd><dt>300</dt><dd>0.00757575757575758</dd><dt>301</dt><dd>0.00757575757575758</dd><dt>302</dt><dd>0.00757575757575758</dd><dt>303</dt><dd>0.00757575757575758</dd><dt>304</dt><dd>0.00757575757575758</dd><dt>308</dt><dd>0.00757575757575758</dd><dt>311</dt><dd>0.00757575757575758</dd><dt>312</dt><dd>0.00757575757575758</dd><dt>313</dt><dd>0.00757575757575758</dd><dt>316</dt><dd>0.00757575757575758</dd><dt>322</dt><dd>0.00757575757575758</dd><dt>328</dt><dd>0.00757575757575758</dd><dt>329</dt><dd>0.00757575757575758</dd><dt>335</dt><dd>0.00757575757575758</dd><dt>336</dt><dd>0.00757575757575758</dd><dt>337</dt><dd>0.00757575757575758</dd><dt>338</dt><dd>0.00757575757575758</dd><dt>340</dt><dd>0.00757575757575758</dd><dt>343</dt><dd>0.00757575757575758</dd><dt>344</dt><dd>0.00757575757575758</dd><dt>346</dt><dd>0.00757575757575758</dd><dt>350</dt><dd>0</dd><dt>351</dt><dd>0.00757575757575758</dd><dt>352</dt><dd>0.00757575757575758</dd><dt>354</dt><dd>0.00757575757575758</dd><dt>355</dt><dd>0.00757575757575758</dd><dt>358</dt><dd>0.00757575757575758</dd><dt>361</dt><dd>0.00757575757575758</dd><dt>362</dt><dd>0.00757575757575758</dd><dt>363</dt><dd>0.00757575757575758</dd><dt>365</dt><dd>0.00757575757575758</dd><dt>366</dt><dd>0.00757575757575758</dd><dt>367</dt><dd>0.00757575757575758</dd><dt>369</dt><dd>0.00757575757575758</dd><dt>370</dt><dd>0.00757575757575758</dd><dt>371</dt><dd>0.00757575757575758</dd><dt>372</dt><dd>0.00757575757575758</dd><dt>375</dt><dd>0.00757575757575758</dd><dt>378</dt><dd>0.00757575757575758</dd><dt>380</dt><dd>0.00757575757575758</dd><dt>382</dt><dd>0.00757575757575758</dd><dt>386</dt><dd>0.00757575757575758</dd><dt>388</dt><dd>0.00757575757575758</dd><dt>393</dt><dd>0.00757575757575758</dd><dt>395</dt><dd>0.956709956709957</dd><dt>396</dt><dd>0.00757575757575758</dd><dt>398</dt><dd>0.00757575757575758</dd><dt>400</dt><dd>0</dd><dt>403</dt><dd>0.00757575757575758</dd><dt>410</dt><dd>0.00757575757575758</dd><dt>413</dt><dd>0.00757575757575758</dd><dt>414</dt><dd>0.00757575757575758</dd><dt>415</dt><dd>0.00757575757575758</dd><dt>426</dt><dd>0.00757575757575758</dd><dt>427</dt><dd>0.956709956709957</dd><dt>428</dt><dd>0.00757575757575758</dd><dt>430</dt><dd>0.00757575757575758</dd><dt>431</dt><dd>0.00757575757575758</dd><dt>437</dt><dd>0.00757575757575758</dd><dt>438</dt><dd>0.00757575757575758</dd><dt>440</dt><dd>0.00757575757575758</dd><dt>447</dt><dd>0.00757575757575758</dd><dt>453</dt><dd>0.00757575757575758</dd><dt>454</dt><dd>0.00757575757575758</dd><dt>455</dt><dd>0.00757575757575758</dd><dt>457</dt><dd>0.00757575757575758</dd><dt>460</dt><dd>0.956709956709957</dd><dt>462</dt><dd>0.956709956709957</dd><dt>464</dt><dd>0.833333333333333</dd><dt>465</dt><dd>0.956709956709957</dd><dt>467</dt><dd>0.894736842105263</dd><dt>469</dt><dd>0.956709956709957</dd><dt>470</dt><dd>0.956709956709957</dd><dt>471</dt><dd>0.956709956709957</dd><dt>473</dt><dd>0.956709956709957</dd><dt>476</dt><dd>0.956709956709957</dd><dt>478</dt><dd>0.956709956709957</dd><dt>479</dt><dd>0.956709956709957</dd><dt>480</dt><dd>0.956709956709957</dd><dt>484</dt><dd>0.956709956709957</dd><dt>490</dt><dd>0.956709956709957</dd><dt>491</dt><dd>0.833333333333333</dd><dt>492</dt><dd>0.956709956709957</dd><dt>493</dt><dd>0.956709956709957</dd><dt>495</dt><dd>0.956709956709957</dd><dt>496</dt><dd>0.956709956709957</dd><dt>498</dt><dd>0.956709956709957</dd><dt>500</dt><dd>0.956709956709957</dd><dt>501</dt><dd>0.956709956709957</dd><dt>503</dt><dd>0.956709956709957</dd><dt>504</dt><dd>0.956709956709957</dd><dt>506</dt><dd>0.956709956709957</dd><dt>508</dt><dd>0.956709956709957</dd><dt>511</dt><dd>0.956709956709957</dd><dt>512</dt><dd>0.956709956709957</dd><dt>513</dt><dd>0.956709956709957</dd><dt>514</dt><dd>0.956709956709957</dd><dt>515</dt><dd>0.956709956709957</dd><dt>517</dt><dd>0.956709956709957</dd><dt>518</dt><dd>0.956709956709957</dd><dt>522</dt><dd>0.956709956709957</dd><dt>525</dt><dd>0.956709956709957</dd><dt>526</dt><dd>0.956709956709957</dd><dt>531</dt><dd>0.956709956709957</dd><dt>532</dt><dd>0.956709956709957</dd><dt>533</dt><dd>0.956709956709957</dd><dt>534</dt><dd>0.956709956709957</dd><dt>535</dt><dd>0.956709956709957</dd><dt>536</dt><dd>0.956709956709957</dd><dt>541</dt><dd>0.956709956709957</dd><dt>543</dt><dd>0.956709956709957</dd><dt>546</dt><dd>0.956709956709957</dd><dt>549</dt><dd>0.956709956709957</dd><dt>555</dt><dd>0.956709956709957</dd><dt>556</dt><dd>0.956709956709957</dd><dt>557</dt><dd>0.956709956709957</dd><dt>563</dt><dd>0.956709956709957</dd><dt>565</dt><dd>0.956709956709957</dd><dt>570</dt><dd>0.956709956709957</dd><dt>573</dt><dd>0.956709956709957</dd><dt>577</dt><dd>0.956709956709957</dd><dt>582</dt><dd>0.956709956709957</dd><dt>584</dt><dd>0.956709956709957</dd><dt>585</dt><dd>0.956709956709957</dd><dt>587</dt><dd>0.956709956709957</dd><dt>589</dt><dd>0.956709956709957</dd><dt>594</dt><dd>0.956709956709957</dd><dt>595</dt><dd>0.894736842105263</dd><dt>599</dt><dd>0.956709956709957</dd><dt>603</dt><dd>0.956709956709957</dd><dt>605</dt><dd>0.956709956709957</dd><dt>606</dt><dd>0.894736842105263</dd><dt>610</dt><dd>0.956709956709957</dd><dt>612</dt><dd>0.956709956709957</dd><dt>614</dt><dd>0.956709956709957</dd><dt>616</dt><dd>0.956709956709957</dd><dt>621</dt><dd>0.956709956709957</dd><dt>623</dt><dd>0.956709956709957</dd><dt>624</dt><dd>0.956709956709957</dd><dt>631</dt><dd>0.956709956709957</dd><dt>637</dt><dd>0.956709956709957</dd><dt>642</dt><dd>0.00757575757575758</dd><dt>643</dt><dd>0.956709956709957</dd><dt>646</dt><dd>0.956709956709957</dd><dt>647</dt><dd>0.956709956709957</dd><dt>649</dt><dd>0.956709956709957</dd><dt>655</dt><dd>0.956709956709957</dd><dt>656</dt><dd>0.956709956709957</dd><dt>657</dt><dd>0.956709956709957</dd><dt>661</dt><dd>0.956709956709957</dd><dt>670</dt><dd>0.956709956709957</dd><dt>672</dt><dd>0.956709956709957</dd><dt>680</dt><dd>0.833333333333333</dd><dt>683</dt><dd>0.956709956709957</dd><dt>685</dt><dd>0.956709956709957</dd><dt>686</dt><dd>0.956709956709957</dd><dt>687</dt><dd>0.956709956709957</dd><dt>689</dt><dd>0.956709956709957</dd><dt>694</dt><dd>0.956709956709957</dd><dt>695</dt><dd>0.956709956709957</dd><dt>699</dt><dd>0.956709956709957</dd><dt>703</dt><dd>0.956709956709957</dd><dt>709</dt><dd>0.956709956709957</dd><dt>710</dt><dd>0.956709956709957</dd><dt>711</dt><dd>0.956709956709957</dd><dt>712</dt><dd>0.956709956709957</dd><dt>713</dt><dd>0.956709956709957</dd><dt>719</dt><dd>0.956709956709957</dd><dt>722</dt><dd>0.956709956709957</dd><dt>727</dt><dd>0.956709956709957</dd><dt>728</dt><dd>0.956709956709957</dd><dt>730</dt><dd>0.956709956709957</dd><dt>733</dt><dd>0.956709956709957</dd><dt>735</dt><dd>0.956709956709957</dd><dt>736</dt><dd>0.956709956709957</dd><dt>740</dt><dd>0.956709956709957</dd><dt>747</dt><dd>0.956709956709957</dd><dt>749</dt><dd>0.894736842105263</dd><dt>751</dt><dd>0.956709956709957</dd><dt>752</dt><dd>0.956709956709957</dd><dt>753</dt><dd>0.956709956709957</dd><dt>756</dt><dd>0.956709956709957</dd><dt>757</dt><dd>0.956709956709957</dd><dt>759</dt><dd>0.956709956709957</dd><dt>765</dt><dd>0.956709956709957</dd><dt>767</dt><dd>0.956709956709957</dd><dt>768</dt><dd>0.956709956709957</dd><dt>775</dt><dd>0.956709956709957</dd><dt>779</dt><dd>0.956709956709957</dd><dt>784</dt><dd>0.956709956709957</dd><dt>785</dt><dd>0.956709956709957</dd><dt>789</dt><dd>0.956709956709957</dd><dt>791</dt><dd>0.956709956709957</dd><dt>794</dt><dd>0.956709956709957</dd><dt>796</dt><dd>0.956709956709957</dd><dt>798</dt><dd>0.956709956709957</dd><dt>799</dt><dd>0.956709956709957</dd><dt>803</dt><dd>0.956709956709957</dd><dt>805</dt><dd>0.956709956709957</dd><dt>806</dt><dd>0.956709956709957</dd><dt>807</dt><dd>0.956709956709957</dd><dt>808</dt><dd>0.956709956709957</dd><dt>809</dt><dd>0.956709956709957</dd><dt>812</dt><dd>0.956709956709957</dd><dt>814</dt><dd>0.956709956709957</dd><dt>815</dt><dd>0.956709956709957</dd><dt>816</dt><dd>0.956709956709957</dd><dt>819</dt><dd>0.956709956709957</dd><dt>823</dt><dd>0.956709956709957</dd><dt>824</dt><dd>0.894736842105263</dd><dt>827</dt><dd>0.956709956709957</dd><dt>828</dt><dd>0.956709956709957</dd><dt>834</dt><dd>0.956709956709957</dd><dt>836</dt><dd>0.956709956709957</dd><dt>837</dt><dd>0.833333333333333</dd><dt>838</dt><dd>0.00757575757575758</dd><dt>840</dt><dd>0.956709956709957</dd><dt>848</dt><dd>0.956709956709957</dd><dt>853</dt><dd>0.956709956709957</dd><dt>854</dt><dd>0.956709956709957</dd><dt>855</dt><dd>0.956709956709957</dd><dt>856</dt><dd>0.956709956709957</dd><dt>858</dt><dd>0.956709956709957</dd><dt>859</dt><dd>0.956709956709957</dd><dt>863</dt><dd>0.956709956709957</dd><dt>864</dt><dd>0.956709956709957</dd><dt>865</dt><dd>0.956709956709957</dd><dt>866</dt><dd>0.956709956709957</dd><dt>869</dt><dd>0.956709956709957</dd><dt>871</dt><dd>0.956709956709957</dd><dt>874</dt><dd>0.956709956709957</dd><dt>877</dt><dd>0.956709956709957</dd><dt>878</dt><dd>0.956709956709957</dd><dt>881</dt><dd>0.956709956709957</dd><dt>883</dt><dd>0.956709956709957</dd><dt>888</dt><dd>0.956709956709957</dd><dt>889</dt><dd>0.956709956709957</dd><dt>891</dt><dd>0.956709956709957</dd><dt>893</dt><dd>0.956709956709957</dd><dt>897</dt><dd>0.956709956709957</dd><dt>901</dt><dd>0.956709956709957</dd><dt>902</dt><dd>0.956709956709957</dd><dt>903</dt><dd>0.956709956709957</dd><dt>905</dt><dd>0.956709956709957</dd><dt>906</dt><dd>0.956709956709957</dd><dt>908</dt><dd>0.894736842105263</dd><dt>909</dt><dd>0.956709956709957</dd><dt>910</dt><dd>0.956709956709957</dd><dt>913</dt><dd>0.956709956709957</dd></dl>\n"
      ],
      "text/latex": [
       "\\begin{description*}\n",
       "\\item[1] 0.00757575757575758\n",
       "\\item[2] 0.956709956709957\n",
       "\\item[8] 0.00757575757575758\n",
       "\\item[10] 0.00757575757575758\n",
       "\\item[12] 0.00757575757575758\n",
       "\\item[15] 0.00757575757575758\n",
       "\\item[23] 0.00757575757575758\n",
       "\\item[29] 0.00757575757575758\n",
       "\\item[30] 0.00757575757575758\n",
       "\\item[36] 0.00757575757575758\n",
       "\\item[37] 0.956709956709957\n",
       "\\item[39] 0.00757575757575758\n",
       "\\item[42] 0.00757575757575758\n",
       "\\item[45] 0.00757575757575758\n",
       "\\item[47] 0.00757575757575758\n",
       "\\item[54] 0.00757575757575758\n",
       "\\item[56] 0.00757575757575758\n",
       "\\item[57] 0.00757575757575758\n",
       "\\item[58] 0.00757575757575758\n",
       "\\item[59] 0.833333333333333\n",
       "\\item[61] 0\n",
       "\\item[64] 0.00757575757575758\n",
       "\\item[65] 0.00757575757575758\n",
       "\\item[67] 0.00757575757575758\n",
       "\\item[70] 0.00757575757575758\n",
       "\\item[72] 0.00757575757575758\n",
       "\\item[74] 0.00757575757575758\n",
       "\\item[78] 0.00757575757575758\n",
       "\\item[80] 0.00757575757575758\n",
       "\\item[81] 0\n",
       "\\item[83] 0.00757575757575758\n",
       "\\item[85] 0.00757575757575758\n",
       "\\item[86] 0.00757575757575758\n",
       "\\item[87] 0.00757575757575758\n",
       "\\item[91] 0.00757575757575758\n",
       "\\item[94] 0.00757575757575758\n",
       "\\item[101] 0.00757575757575758\n",
       "\\item[103] 0.00757575757575758\n",
       "\\item[104] 0.00757575757575758\n",
       "\\item[105] 0.00757575757575758\n",
       "\\item[108] 0.00757575757575758\n",
       "\\item[112] 0.00757575757575758\n",
       "\\item[113] 0.956709956709957\n",
       "\\item[115] 0.00757575757575758\n",
       "\\item[121] 0.00757575757575758\n",
       "\\item[123] 0.00757575757575758\n",
       "\\item[125] 0.00757575757575758\n",
       "\\item[128] 0.00757575757575758\n",
       "\\item[129] 0.00757575757575758\n",
       "\\item[130] 0.956709956709957\n",
       "\\item[140] 0.00757575757575758\n",
       "\\item[142] 0.956709956709957\n",
       "\\item[143] 0.00757575757575758\n",
       "\\item[147] 0.00757575757575758\n",
       "\\item[152] 0.00757575757575758\n",
       "\\item[155] 0.00757575757575758\n",
       "\\item[156] 0.00757575757575758\n",
       "\\item[158] 0.00757575757575758\n",
       "\\item[159] 0.00757575757575758\n",
       "\\item[161] 0.956709956709957\n",
       "\\item[164] 0.00757575757575758\n",
       "\\item[166] 0.00757575757575758\n",
       "\\item[170] 0.00757575757575758\n",
       "\\item[171] 0.00757575757575758\n",
       "\\item[175] 0.956709956709957\n",
       "\\item[176] 0.00757575757575758\n",
       "\\item[178] 0.00757575757575758\n",
       "\\item[179] 0.00757575757575758\n",
       "\\item[180] 0.00757575757575758\n",
       "\\item[186] 0.00757575757575758\n",
       "\\item[187] 0.00757575757575758\n",
       "\\item[192] 0.00757575757575758\n",
       "\\item[194] 0.956709956709957\n",
       "\\item[196] 0.00757575757575758\n",
       "\\item[198] 0.956709956709957\n",
       "\\item[202] 0.00757575757575758\n",
       "\\item[203] 0\n",
       "\\item[205] 0.00757575757575758\n",
       "\\item[206] 0.00757575757575758\n",
       "\\item[208] 0.00757575757575758\n",
       "\\item[209] 0.00757575757575758\n",
       "\\item[210] 0.00757575757575758\n",
       "\\item[211] 0.00757575757575758\n",
       "\\item[212] 0.956709956709957\n",
       "\\item[217] 0\n",
       "\\item[219] 0.00757575757575758\n",
       "\\item[220] 0.00757575757575758\n",
       "\\item[224] 0.00757575757575758\n",
       "\\item[225] 0.00757575757575758\n",
       "\\item[227] 0.00757575757575758\n",
       "\\item[228] 0.00757575757575758\n",
       "\\item[232] 0\n",
       "\\item[237] 0.833333333333333\n",
       "\\item[238] 0.00757575757575758\n",
       "\\item[247] 0.956709956709957\n",
       "\\item[248] 0.00757575757575758\n",
       "\\item[249] 0.00757575757575758\n",
       "\\item[250] 0.956709956709957\n",
       "\\item[253] 0\n",
       "\\item[255] 0.00757575757575758\n",
       "\\item[256] 0.00757575757575758\n",
       "\\item[260] 0.00757575757575758\n",
       "\\item[261] 0.894736842105263\n",
       "\\item[262] 0.00757575757575758\n",
       "\\item[266] 0.00757575757575758\n",
       "\\item[267] 0.00757575757575758\n",
       "\\item[272] 0\n",
       "\\item[274] 0.00757575757575758\n",
       "\\item[275] 0.00757575757575758\n",
       "\\item[282] 0.00757575757575758\n",
       "\\item[285] 0.00757575757575758\n",
       "\\item[287] 0.00757575757575758\n",
       "\\item[288] 0.00757575757575758\n",
       "\\item[290] 0.00757575757575758\n",
       "\\item[291] 0.00757575757575758\n",
       "\\item[293] 0.00757575757575758\n",
       "\\item[296] 0.00757575757575758\n",
       "\\item[300] 0.00757575757575758\n",
       "\\item[301] 0.00757575757575758\n",
       "\\item[302] 0.00757575757575758\n",
       "\\item[303] 0.00757575757575758\n",
       "\\item[304] 0.00757575757575758\n",
       "\\item[308] 0.00757575757575758\n",
       "\\item[311] 0.00757575757575758\n",
       "\\item[312] 0.00757575757575758\n",
       "\\item[313] 0.00757575757575758\n",
       "\\item[316] 0.00757575757575758\n",
       "\\item[322] 0.00757575757575758\n",
       "\\item[328] 0.00757575757575758\n",
       "\\item[329] 0.00757575757575758\n",
       "\\item[335] 0.00757575757575758\n",
       "\\item[336] 0.00757575757575758\n",
       "\\item[337] 0.00757575757575758\n",
       "\\item[338] 0.00757575757575758\n",
       "\\item[340] 0.00757575757575758\n",
       "\\item[343] 0.00757575757575758\n",
       "\\item[344] 0.00757575757575758\n",
       "\\item[346] 0.00757575757575758\n",
       "\\item[350] 0\n",
       "\\item[351] 0.00757575757575758\n",
       "\\item[352] 0.00757575757575758\n",
       "\\item[354] 0.00757575757575758\n",
       "\\item[355] 0.00757575757575758\n",
       "\\item[358] 0.00757575757575758\n",
       "\\item[361] 0.00757575757575758\n",
       "\\item[362] 0.00757575757575758\n",
       "\\item[363] 0.00757575757575758\n",
       "\\item[365] 0.00757575757575758\n",
       "\\item[366] 0.00757575757575758\n",
       "\\item[367] 0.00757575757575758\n",
       "\\item[369] 0.00757575757575758\n",
       "\\item[370] 0.00757575757575758\n",
       "\\item[371] 0.00757575757575758\n",
       "\\item[372] 0.00757575757575758\n",
       "\\item[375] 0.00757575757575758\n",
       "\\item[378] 0.00757575757575758\n",
       "\\item[380] 0.00757575757575758\n",
       "\\item[382] 0.00757575757575758\n",
       "\\item[386] 0.00757575757575758\n",
       "\\item[388] 0.00757575757575758\n",
       "\\item[393] 0.00757575757575758\n",
       "\\item[395] 0.956709956709957\n",
       "\\item[396] 0.00757575757575758\n",
       "\\item[398] 0.00757575757575758\n",
       "\\item[400] 0\n",
       "\\item[403] 0.00757575757575758\n",
       "\\item[410] 0.00757575757575758\n",
       "\\item[413] 0.00757575757575758\n",
       "\\item[414] 0.00757575757575758\n",
       "\\item[415] 0.00757575757575758\n",
       "\\item[426] 0.00757575757575758\n",
       "\\item[427] 0.956709956709957\n",
       "\\item[428] 0.00757575757575758\n",
       "\\item[430] 0.00757575757575758\n",
       "\\item[431] 0.00757575757575758\n",
       "\\item[437] 0.00757575757575758\n",
       "\\item[438] 0.00757575757575758\n",
       "\\item[440] 0.00757575757575758\n",
       "\\item[447] 0.00757575757575758\n",
       "\\item[453] 0.00757575757575758\n",
       "\\item[454] 0.00757575757575758\n",
       "\\item[455] 0.00757575757575758\n",
       "\\item[457] 0.00757575757575758\n",
       "\\item[460] 0.956709956709957\n",
       "\\item[462] 0.956709956709957\n",
       "\\item[464] 0.833333333333333\n",
       "\\item[465] 0.956709956709957\n",
       "\\item[467] 0.894736842105263\n",
       "\\item[469] 0.956709956709957\n",
       "\\item[470] 0.956709956709957\n",
       "\\item[471] 0.956709956709957\n",
       "\\item[473] 0.956709956709957\n",
       "\\item[476] 0.956709956709957\n",
       "\\item[478] 0.956709956709957\n",
       "\\item[479] 0.956709956709957\n",
       "\\item[480] 0.956709956709957\n",
       "\\item[484] 0.956709956709957\n",
       "\\item[490] 0.956709956709957\n",
       "\\item[491] 0.833333333333333\n",
       "\\item[492] 0.956709956709957\n",
       "\\item[493] 0.956709956709957\n",
       "\\item[495] 0.956709956709957\n",
       "\\item[496] 0.956709956709957\n",
       "\\item[498] 0.956709956709957\n",
       "\\item[500] 0.956709956709957\n",
       "\\item[501] 0.956709956709957\n",
       "\\item[503] 0.956709956709957\n",
       "\\item[504] 0.956709956709957\n",
       "\\item[506] 0.956709956709957\n",
       "\\item[508] 0.956709956709957\n",
       "\\item[511] 0.956709956709957\n",
       "\\item[512] 0.956709956709957\n",
       "\\item[513] 0.956709956709957\n",
       "\\item[514] 0.956709956709957\n",
       "\\item[515] 0.956709956709957\n",
       "\\item[517] 0.956709956709957\n",
       "\\item[518] 0.956709956709957\n",
       "\\item[522] 0.956709956709957\n",
       "\\item[525] 0.956709956709957\n",
       "\\item[526] 0.956709956709957\n",
       "\\item[531] 0.956709956709957\n",
       "\\item[532] 0.956709956709957\n",
       "\\item[533] 0.956709956709957\n",
       "\\item[534] 0.956709956709957\n",
       "\\item[535] 0.956709956709957\n",
       "\\item[536] 0.956709956709957\n",
       "\\item[541] 0.956709956709957\n",
       "\\item[543] 0.956709956709957\n",
       "\\item[546] 0.956709956709957\n",
       "\\item[549] 0.956709956709957\n",
       "\\item[555] 0.956709956709957\n",
       "\\item[556] 0.956709956709957\n",
       "\\item[557] 0.956709956709957\n",
       "\\item[563] 0.956709956709957\n",
       "\\item[565] 0.956709956709957\n",
       "\\item[570] 0.956709956709957\n",
       "\\item[573] 0.956709956709957\n",
       "\\item[577] 0.956709956709957\n",
       "\\item[582] 0.956709956709957\n",
       "\\item[584] 0.956709956709957\n",
       "\\item[585] 0.956709956709957\n",
       "\\item[587] 0.956709956709957\n",
       "\\item[589] 0.956709956709957\n",
       "\\item[594] 0.956709956709957\n",
       "\\item[595] 0.894736842105263\n",
       "\\item[599] 0.956709956709957\n",
       "\\item[603] 0.956709956709957\n",
       "\\item[605] 0.956709956709957\n",
       "\\item[606] 0.894736842105263\n",
       "\\item[610] 0.956709956709957\n",
       "\\item[612] 0.956709956709957\n",
       "\\item[614] 0.956709956709957\n",
       "\\item[616] 0.956709956709957\n",
       "\\item[621] 0.956709956709957\n",
       "\\item[623] 0.956709956709957\n",
       "\\item[624] 0.956709956709957\n",
       "\\item[631] 0.956709956709957\n",
       "\\item[637] 0.956709956709957\n",
       "\\item[642] 0.00757575757575758\n",
       "\\item[643] 0.956709956709957\n",
       "\\item[646] 0.956709956709957\n",
       "\\item[647] 0.956709956709957\n",
       "\\item[649] 0.956709956709957\n",
       "\\item[655] 0.956709956709957\n",
       "\\item[656] 0.956709956709957\n",
       "\\item[657] 0.956709956709957\n",
       "\\item[661] 0.956709956709957\n",
       "\\item[670] 0.956709956709957\n",
       "\\item[672] 0.956709956709957\n",
       "\\item[680] 0.833333333333333\n",
       "\\item[683] 0.956709956709957\n",
       "\\item[685] 0.956709956709957\n",
       "\\item[686] 0.956709956709957\n",
       "\\item[687] 0.956709956709957\n",
       "\\item[689] 0.956709956709957\n",
       "\\item[694] 0.956709956709957\n",
       "\\item[695] 0.956709956709957\n",
       "\\item[699] 0.956709956709957\n",
       "\\item[703] 0.956709956709957\n",
       "\\item[709] 0.956709956709957\n",
       "\\item[710] 0.956709956709957\n",
       "\\item[711] 0.956709956709957\n",
       "\\item[712] 0.956709956709957\n",
       "\\item[713] 0.956709956709957\n",
       "\\item[719] 0.956709956709957\n",
       "\\item[722] 0.956709956709957\n",
       "\\item[727] 0.956709956709957\n",
       "\\item[728] 0.956709956709957\n",
       "\\item[730] 0.956709956709957\n",
       "\\item[733] 0.956709956709957\n",
       "\\item[735] 0.956709956709957\n",
       "\\item[736] 0.956709956709957\n",
       "\\item[740] 0.956709956709957\n",
       "\\item[747] 0.956709956709957\n",
       "\\item[749] 0.894736842105263\n",
       "\\item[751] 0.956709956709957\n",
       "\\item[752] 0.956709956709957\n",
       "\\item[753] 0.956709956709957\n",
       "\\item[756] 0.956709956709957\n",
       "\\item[757] 0.956709956709957\n",
       "\\item[759] 0.956709956709957\n",
       "\\item[765] 0.956709956709957\n",
       "\\item[767] 0.956709956709957\n",
       "\\item[768] 0.956709956709957\n",
       "\\item[775] 0.956709956709957\n",
       "\\item[779] 0.956709956709957\n",
       "\\item[784] 0.956709956709957\n",
       "\\item[785] 0.956709956709957\n",
       "\\item[789] 0.956709956709957\n",
       "\\item[791] 0.956709956709957\n",
       "\\item[794] 0.956709956709957\n",
       "\\item[796] 0.956709956709957\n",
       "\\item[798] 0.956709956709957\n",
       "\\item[799] 0.956709956709957\n",
       "\\item[803] 0.956709956709957\n",
       "\\item[805] 0.956709956709957\n",
       "\\item[806] 0.956709956709957\n",
       "\\item[807] 0.956709956709957\n",
       "\\item[808] 0.956709956709957\n",
       "\\item[809] 0.956709956709957\n",
       "\\item[812] 0.956709956709957\n",
       "\\item[814] 0.956709956709957\n",
       "\\item[815] 0.956709956709957\n",
       "\\item[816] 0.956709956709957\n",
       "\\item[819] 0.956709956709957\n",
       "\\item[823] 0.956709956709957\n",
       "\\item[824] 0.894736842105263\n",
       "\\item[827] 0.956709956709957\n",
       "\\item[828] 0.956709956709957\n",
       "\\item[834] 0.956709956709957\n",
       "\\item[836] 0.956709956709957\n",
       "\\item[837] 0.833333333333333\n",
       "\\item[838] 0.00757575757575758\n",
       "\\item[840] 0.956709956709957\n",
       "\\item[848] 0.956709956709957\n",
       "\\item[853] 0.956709956709957\n",
       "\\item[854] 0.956709956709957\n",
       "\\item[855] 0.956709956709957\n",
       "\\item[856] 0.956709956709957\n",
       "\\item[858] 0.956709956709957\n",
       "\\item[859] 0.956709956709957\n",
       "\\item[863] 0.956709956709957\n",
       "\\item[864] 0.956709956709957\n",
       "\\item[865] 0.956709956709957\n",
       "\\item[866] 0.956709956709957\n",
       "\\item[869] 0.956709956709957\n",
       "\\item[871] 0.956709956709957\n",
       "\\item[874] 0.956709956709957\n",
       "\\item[877] 0.956709956709957\n",
       "\\item[878] 0.956709956709957\n",
       "\\item[881] 0.956709956709957\n",
       "\\item[883] 0.956709956709957\n",
       "\\item[888] 0.956709956709957\n",
       "\\item[889] 0.956709956709957\n",
       "\\item[891] 0.956709956709957\n",
       "\\item[893] 0.956709956709957\n",
       "\\item[897] 0.956709956709957\n",
       "\\item[901] 0.956709956709957\n",
       "\\item[902] 0.956709956709957\n",
       "\\item[903] 0.956709956709957\n",
       "\\item[905] 0.956709956709957\n",
       "\\item[906] 0.956709956709957\n",
       "\\item[908] 0.894736842105263\n",
       "\\item[909] 0.956709956709957\n",
       "\\item[910] 0.956709956709957\n",
       "\\item[913] 0.956709956709957\n",
       "\\end{description*}\n"
      ],
      "text/markdown": [
       "1\n",
       ":   0.007575757575757582\n",
       ":   0.9567099567099578\n",
       ":   0.0075757575757575810\n",
       ":   0.0075757575757575812\n",
       ":   0.0075757575757575815\n",
       ":   0.0075757575757575823\n",
       ":   0.0075757575757575829\n",
       ":   0.0075757575757575830\n",
       ":   0.0075757575757575836\n",
       ":   0.0075757575757575837\n",
       ":   0.95670995670995739\n",
       ":   0.0075757575757575842\n",
       ":   0.0075757575757575845\n",
       ":   0.0075757575757575847\n",
       ":   0.0075757575757575854\n",
       ":   0.0075757575757575856\n",
       ":   0.0075757575757575857\n",
       ":   0.0075757575757575858\n",
       ":   0.0075757575757575859\n",
       ":   0.83333333333333361\n",
       ":   064\n",
       ":   0.0075757575757575865\n",
       ":   0.0075757575757575867\n",
       ":   0.0075757575757575870\n",
       ":   0.0075757575757575872\n",
       ":   0.0075757575757575874\n",
       ":   0.0075757575757575878\n",
       ":   0.0075757575757575880\n",
       ":   0.0075757575757575881\n",
       ":   083\n",
       ":   0.0075757575757575885\n",
       ":   0.0075757575757575886\n",
       ":   0.0075757575757575887\n",
       ":   0.0075757575757575891\n",
       ":   0.0075757575757575894\n",
       ":   0.00757575757575758101\n",
       ":   0.00757575757575758103\n",
       ":   0.00757575757575758104\n",
       ":   0.00757575757575758105\n",
       ":   0.00757575757575758108\n",
       ":   0.00757575757575758112\n",
       ":   0.00757575757575758113\n",
       ":   0.956709956709957115\n",
       ":   0.00757575757575758121\n",
       ":   0.00757575757575758123\n",
       ":   0.00757575757575758125\n",
       ":   0.00757575757575758128\n",
       ":   0.00757575757575758129\n",
       ":   0.00757575757575758130\n",
       ":   0.956709956709957140\n",
       ":   0.00757575757575758142\n",
       ":   0.956709956709957143\n",
       ":   0.00757575757575758147\n",
       ":   0.00757575757575758152\n",
       ":   0.00757575757575758155\n",
       ":   0.00757575757575758156\n",
       ":   0.00757575757575758158\n",
       ":   0.00757575757575758159\n",
       ":   0.00757575757575758161\n",
       ":   0.956709956709957164\n",
       ":   0.00757575757575758166\n",
       ":   0.00757575757575758170\n",
       ":   0.00757575757575758171\n",
       ":   0.00757575757575758175\n",
       ":   0.956709956709957176\n",
       ":   0.00757575757575758178\n",
       ":   0.00757575757575758179\n",
       ":   0.00757575757575758180\n",
       ":   0.00757575757575758186\n",
       ":   0.00757575757575758187\n",
       ":   0.00757575757575758192\n",
       ":   0.00757575757575758194\n",
       ":   0.956709956709957196\n",
       ":   0.00757575757575758198\n",
       ":   0.956709956709957202\n",
       ":   0.00757575757575758203\n",
       ":   0205\n",
       ":   0.00757575757575758206\n",
       ":   0.00757575757575758208\n",
       ":   0.00757575757575758209\n",
       ":   0.00757575757575758210\n",
       ":   0.00757575757575758211\n",
       ":   0.00757575757575758212\n",
       ":   0.956709956709957217\n",
       ":   0219\n",
       ":   0.00757575757575758220\n",
       ":   0.00757575757575758224\n",
       ":   0.00757575757575758225\n",
       ":   0.00757575757575758227\n",
       ":   0.00757575757575758228\n",
       ":   0.00757575757575758232\n",
       ":   0237\n",
       ":   0.833333333333333238\n",
       ":   0.00757575757575758247\n",
       ":   0.956709956709957248\n",
       ":   0.00757575757575758249\n",
       ":   0.00757575757575758250\n",
       ":   0.956709956709957253\n",
       ":   0255\n",
       ":   0.00757575757575758256\n",
       ":   0.00757575757575758260\n",
       ":   0.00757575757575758261\n",
       ":   0.894736842105263262\n",
       ":   0.00757575757575758266\n",
       ":   0.00757575757575758267\n",
       ":   0.00757575757575758272\n",
       ":   0274\n",
       ":   0.00757575757575758275\n",
       ":   0.00757575757575758282\n",
       ":   0.00757575757575758285\n",
       ":   0.00757575757575758287\n",
       ":   0.00757575757575758288\n",
       ":   0.00757575757575758290\n",
       ":   0.00757575757575758291\n",
       ":   0.00757575757575758293\n",
       ":   0.00757575757575758296\n",
       ":   0.00757575757575758300\n",
       ":   0.00757575757575758301\n",
       ":   0.00757575757575758302\n",
       ":   0.00757575757575758303\n",
       ":   0.00757575757575758304\n",
       ":   0.00757575757575758308\n",
       ":   0.00757575757575758311\n",
       ":   0.00757575757575758312\n",
       ":   0.00757575757575758313\n",
       ":   0.00757575757575758316\n",
       ":   0.00757575757575758322\n",
       ":   0.00757575757575758328\n",
       ":   0.00757575757575758329\n",
       ":   0.00757575757575758335\n",
       ":   0.00757575757575758336\n",
       ":   0.00757575757575758337\n",
       ":   0.00757575757575758338\n",
       ":   0.00757575757575758340\n",
       ":   0.00757575757575758343\n",
       ":   0.00757575757575758344\n",
       ":   0.00757575757575758346\n",
       ":   0.00757575757575758350\n",
       ":   0351\n",
       ":   0.00757575757575758352\n",
       ":   0.00757575757575758354\n",
       ":   0.00757575757575758355\n",
       ":   0.00757575757575758358\n",
       ":   0.00757575757575758361\n",
       ":   0.00757575757575758362\n",
       ":   0.00757575757575758363\n",
       ":   0.00757575757575758365\n",
       ":   0.00757575757575758366\n",
       ":   0.00757575757575758367\n",
       ":   0.00757575757575758369\n",
       ":   0.00757575757575758370\n",
       ":   0.00757575757575758371\n",
       ":   0.00757575757575758372\n",
       ":   0.00757575757575758375\n",
       ":   0.00757575757575758378\n",
       ":   0.00757575757575758380\n",
       ":   0.00757575757575758382\n",
       ":   0.00757575757575758386\n",
       ":   0.00757575757575758388\n",
       ":   0.00757575757575758393\n",
       ":   0.00757575757575758395\n",
       ":   0.956709956709957396\n",
       ":   0.00757575757575758398\n",
       ":   0.00757575757575758400\n",
       ":   0403\n",
       ":   0.00757575757575758410\n",
       ":   0.00757575757575758413\n",
       ":   0.00757575757575758414\n",
       ":   0.00757575757575758415\n",
       ":   0.00757575757575758426\n",
       ":   0.00757575757575758427\n",
       ":   0.956709956709957428\n",
       ":   0.00757575757575758430\n",
       ":   0.00757575757575758431\n",
       ":   0.00757575757575758437\n",
       ":   0.00757575757575758438\n",
       ":   0.00757575757575758440\n",
       ":   0.00757575757575758447\n",
       ":   0.00757575757575758453\n",
       ":   0.00757575757575758454\n",
       ":   0.00757575757575758455\n",
       ":   0.00757575757575758457\n",
       ":   0.00757575757575758460\n",
       ":   0.956709956709957462\n",
       ":   0.956709956709957464\n",
       ":   0.833333333333333465\n",
       ":   0.956709956709957467\n",
       ":   0.894736842105263469\n",
       ":   0.956709956709957470\n",
       ":   0.956709956709957471\n",
       ":   0.956709956709957473\n",
       ":   0.956709956709957476\n",
       ":   0.956709956709957478\n",
       ":   0.956709956709957479\n",
       ":   0.956709956709957480\n",
       ":   0.956709956709957484\n",
       ":   0.956709956709957490\n",
       ":   0.956709956709957491\n",
       ":   0.833333333333333492\n",
       ":   0.956709956709957493\n",
       ":   0.956709956709957495\n",
       ":   0.956709956709957496\n",
       ":   0.956709956709957498\n",
       ":   0.956709956709957500\n",
       ":   0.956709956709957501\n",
       ":   0.956709956709957503\n",
       ":   0.956709956709957504\n",
       ":   0.956709956709957506\n",
       ":   0.956709956709957508\n",
       ":   0.956709956709957511\n",
       ":   0.956709956709957512\n",
       ":   0.956709956709957513\n",
       ":   0.956709956709957514\n",
       ":   0.956709956709957515\n",
       ":   0.956709956709957517\n",
       ":   0.956709956709957518\n",
       ":   0.956709956709957522\n",
       ":   0.956709956709957525\n",
       ":   0.956709956709957526\n",
       ":   0.956709956709957531\n",
       ":   0.956709956709957532\n",
       ":   0.956709956709957533\n",
       ":   0.956709956709957534\n",
       ":   0.956709956709957535\n",
       ":   0.956709956709957536\n",
       ":   0.956709956709957541\n",
       ":   0.956709956709957543\n",
       ":   0.956709956709957546\n",
       ":   0.956709956709957549\n",
       ":   0.956709956709957555\n",
       ":   0.956709956709957556\n",
       ":   0.956709956709957557\n",
       ":   0.956709956709957563\n",
       ":   0.956709956709957565\n",
       ":   0.956709956709957570\n",
       ":   0.956709956709957573\n",
       ":   0.956709956709957577\n",
       ":   0.956709956709957582\n",
       ":   0.956709956709957584\n",
       ":   0.956709956709957585\n",
       ":   0.956709956709957587\n",
       ":   0.956709956709957589\n",
       ":   0.956709956709957594\n",
       ":   0.956709956709957595\n",
       ":   0.894736842105263599\n",
       ":   0.956709956709957603\n",
       ":   0.956709956709957605\n",
       ":   0.956709956709957606\n",
       ":   0.894736842105263610\n",
       ":   0.956709956709957612\n",
       ":   0.956709956709957614\n",
       ":   0.956709956709957616\n",
       ":   0.956709956709957621\n",
       ":   0.956709956709957623\n",
       ":   0.956709956709957624\n",
       ":   0.956709956709957631\n",
       ":   0.956709956709957637\n",
       ":   0.956709956709957642\n",
       ":   0.00757575757575758643\n",
       ":   0.956709956709957646\n",
       ":   0.956709956709957647\n",
       ":   0.956709956709957649\n",
       ":   0.956709956709957655\n",
       ":   0.956709956709957656\n",
       ":   0.956709956709957657\n",
       ":   0.956709956709957661\n",
       ":   0.956709956709957670\n",
       ":   0.956709956709957672\n",
       ":   0.956709956709957680\n",
       ":   0.833333333333333683\n",
       ":   0.956709956709957685\n",
       ":   0.956709956709957686\n",
       ":   0.956709956709957687\n",
       ":   0.956709956709957689\n",
       ":   0.956709956709957694\n",
       ":   0.956709956709957695\n",
       ":   0.956709956709957699\n",
       ":   0.956709956709957703\n",
       ":   0.956709956709957709\n",
       ":   0.956709956709957710\n",
       ":   0.956709956709957711\n",
       ":   0.956709956709957712\n",
       ":   0.956709956709957713\n",
       ":   0.956709956709957719\n",
       ":   0.956709956709957722\n",
       ":   0.956709956709957727\n",
       ":   0.956709956709957728\n",
       ":   0.956709956709957730\n",
       ":   0.956709956709957733\n",
       ":   0.956709956709957735\n",
       ":   0.956709956709957736\n",
       ":   0.956709956709957740\n",
       ":   0.956709956709957747\n",
       ":   0.956709956709957749\n",
       ":   0.894736842105263751\n",
       ":   0.956709956709957752\n",
       ":   0.956709956709957753\n",
       ":   0.956709956709957756\n",
       ":   0.956709956709957757\n",
       ":   0.956709956709957759\n",
       ":   0.956709956709957765\n",
       ":   0.956709956709957767\n",
       ":   0.956709956709957768\n",
       ":   0.956709956709957775\n",
       ":   0.956709956709957779\n",
       ":   0.956709956709957784\n",
       ":   0.956709956709957785\n",
       ":   0.956709956709957789\n",
       ":   0.956709956709957791\n",
       ":   0.956709956709957794\n",
       ":   0.956709956709957796\n",
       ":   0.956709956709957798\n",
       ":   0.956709956709957799\n",
       ":   0.956709956709957803\n",
       ":   0.956709956709957805\n",
       ":   0.956709956709957806\n",
       ":   0.956709956709957807\n",
       ":   0.956709956709957808\n",
       ":   0.956709956709957809\n",
       ":   0.956709956709957812\n",
       ":   0.956709956709957814\n",
       ":   0.956709956709957815\n",
       ":   0.956709956709957816\n",
       ":   0.956709956709957819\n",
       ":   0.956709956709957823\n",
       ":   0.956709956709957824\n",
       ":   0.894736842105263827\n",
       ":   0.956709956709957828\n",
       ":   0.956709956709957834\n",
       ":   0.956709956709957836\n",
       ":   0.956709956709957837\n",
       ":   0.833333333333333838\n",
       ":   0.00757575757575758840\n",
       ":   0.956709956709957848\n",
       ":   0.956709956709957853\n",
       ":   0.956709956709957854\n",
       ":   0.956709956709957855\n",
       ":   0.956709956709957856\n",
       ":   0.956709956709957858\n",
       ":   0.956709956709957859\n",
       ":   0.956709956709957863\n",
       ":   0.956709956709957864\n",
       ":   0.956709956709957865\n",
       ":   0.956709956709957866\n",
       ":   0.956709956709957869\n",
       ":   0.956709956709957871\n",
       ":   0.956709956709957874\n",
       ":   0.956709956709957877\n",
       ":   0.956709956709957878\n",
       ":   0.956709956709957881\n",
       ":   0.956709956709957883\n",
       ":   0.956709956709957888\n",
       ":   0.956709956709957889\n",
       ":   0.956709956709957891\n",
       ":   0.956709956709957893\n",
       ":   0.956709956709957897\n",
       ":   0.956709956709957901\n",
       ":   0.956709956709957902\n",
       ":   0.956709956709957903\n",
       ":   0.956709956709957905\n",
       ":   0.956709956709957906\n",
       ":   0.956709956709957908\n",
       ":   0.894736842105263909\n",
       ":   0.956709956709957910\n",
       ":   0.956709956709957913\n",
       ":   0.956709956709957\n",
       "\n"
      ],
      "text/plain": [
       "          1           2           8          10          12          15 \n",
       "0.007575758 0.956709957 0.007575758 0.007575758 0.007575758 0.007575758 \n",
       "         23          29          30          36          37          39 \n",
       "0.007575758 0.007575758 0.007575758 0.007575758 0.956709957 0.007575758 \n",
       "         42          45          47          54          56          57 \n",
       "0.007575758 0.007575758 0.007575758 0.007575758 0.007575758 0.007575758 \n",
       "         58          59          61          64          65          67 \n",
       "0.007575758 0.833333333 0.000000000 0.007575758 0.007575758 0.007575758 \n",
       "         70          72          74          78          80          81 \n",
       "0.007575758 0.007575758 0.007575758 0.007575758 0.007575758 0.000000000 \n",
       "         83          85          86          87          91          94 \n",
       "0.007575758 0.007575758 0.007575758 0.007575758 0.007575758 0.007575758 \n",
       "        101         103         104         105         108         112 \n",
       "0.007575758 0.007575758 0.007575758 0.007575758 0.007575758 0.007575758 \n",
       "        113         115         121         123         125         128 \n",
       "0.956709957 0.007575758 0.007575758 0.007575758 0.007575758 0.007575758 \n",
       "        129         130         140         142         143         147 \n",
       "0.007575758 0.956709957 0.007575758 0.956709957 0.007575758 0.007575758 \n",
       "        152         155         156         158         159         161 \n",
       "0.007575758 0.007575758 0.007575758 0.007575758 0.007575758 0.956709957 \n",
       "        164         166         170         171         175         176 \n",
       "0.007575758 0.007575758 0.007575758 0.007575758 0.956709957 0.007575758 \n",
       "        178         179         180         186         187         192 \n",
       "0.007575758 0.007575758 0.007575758 0.007575758 0.007575758 0.007575758 \n",
       "        194         196         198         202         203         205 \n",
       "0.956709957 0.007575758 0.956709957 0.007575758 0.000000000 0.007575758 \n",
       "        206         208         209         210         211         212 \n",
       "0.007575758 0.007575758 0.007575758 0.007575758 0.007575758 0.956709957 \n",
       "        217         219         220         224         225         227 \n",
       "0.000000000 0.007575758 0.007575758 0.007575758 0.007575758 0.007575758 \n",
       "        228         232         237         238         247         248 \n",
       "0.007575758 0.000000000 0.833333333 0.007575758 0.956709957 0.007575758 \n",
       "        249         250         253         255         256         260 \n",
       "0.007575758 0.956709957 0.000000000 0.007575758 0.007575758 0.007575758 \n",
       "        261         262         266         267         272         274 \n",
       "0.894736842 0.007575758 0.007575758 0.007575758 0.000000000 0.007575758 \n",
       "        275         282         285         287         288         290 \n",
       "0.007575758 0.007575758 0.007575758 0.007575758 0.007575758 0.007575758 \n",
       "        291         293         296         300         301         302 \n",
       "0.007575758 0.007575758 0.007575758 0.007575758 0.007575758 0.007575758 \n",
       "        303         304         308         311         312         313 \n",
       "0.007575758 0.007575758 0.007575758 0.007575758 0.007575758 0.007575758 \n",
       "        316         322         328         329         335         336 \n",
       "0.007575758 0.007575758 0.007575758 0.007575758 0.007575758 0.007575758 \n",
       "        337         338         340         343         344         346 \n",
       "0.007575758 0.007575758 0.007575758 0.007575758 0.007575758 0.007575758 \n",
       "        350         351         352         354         355         358 \n",
       "0.000000000 0.007575758 0.007575758 0.007575758 0.007575758 0.007575758 \n",
       "        361         362         363         365         366         367 \n",
       "0.007575758 0.007575758 0.007575758 0.007575758 0.007575758 0.007575758 \n",
       "        369         370         371         372         375         378 \n",
       "0.007575758 0.007575758 0.007575758 0.007575758 0.007575758 0.007575758 \n",
       "        380         382         386         388         393         395 \n",
       "0.007575758 0.007575758 0.007575758 0.007575758 0.007575758 0.956709957 \n",
       "        396         398         400         403         410         413 \n",
       "0.007575758 0.007575758 0.000000000 0.007575758 0.007575758 0.007575758 \n",
       "        414         415         426         427         428         430 \n",
       "0.007575758 0.007575758 0.007575758 0.956709957 0.007575758 0.007575758 \n",
       "        431         437         438         440         447         453 \n",
       "0.007575758 0.007575758 0.007575758 0.007575758 0.007575758 0.007575758 \n",
       "        454         455         457         460         462         464 \n",
       "0.007575758 0.007575758 0.007575758 0.956709957 0.956709957 0.833333333 \n",
       "        465         467         469         470         471         473 \n",
       "0.956709957 0.894736842 0.956709957 0.956709957 0.956709957 0.956709957 \n",
       "        476         478         479         480         484         490 \n",
       "0.956709957 0.956709957 0.956709957 0.956709957 0.956709957 0.956709957 \n",
       "        491         492         493         495         496         498 \n",
       "0.833333333 0.956709957 0.956709957 0.956709957 0.956709957 0.956709957 \n",
       "        500         501         503         504         506         508 \n",
       "0.956709957 0.956709957 0.956709957 0.956709957 0.956709957 0.956709957 \n",
       "        511         512         513         514         515         517 \n",
       "0.956709957 0.956709957 0.956709957 0.956709957 0.956709957 0.956709957 \n",
       "        518         522         525         526         531         532 \n",
       "0.956709957 0.956709957 0.956709957 0.956709957 0.956709957 0.956709957 \n",
       "        533         534         535         536         541         543 \n",
       "0.956709957 0.956709957 0.956709957 0.956709957 0.956709957 0.956709957 \n",
       "        546         549         555         556         557         563 \n",
       "0.956709957 0.956709957 0.956709957 0.956709957 0.956709957 0.956709957 \n",
       "        565         570         573         577         582         584 \n",
       "0.956709957 0.956709957 0.956709957 0.956709957 0.956709957 0.956709957 \n",
       "        585         587         589         594         595         599 \n",
       "0.956709957 0.956709957 0.956709957 0.956709957 0.894736842 0.956709957 \n",
       "        603         605         606         610         612         614 \n",
       "0.956709957 0.956709957 0.894736842 0.956709957 0.956709957 0.956709957 \n",
       "        616         621         623         624         631         637 \n",
       "0.956709957 0.956709957 0.956709957 0.956709957 0.956709957 0.956709957 \n",
       "        642         643         646         647         649         655 \n",
       "0.007575758 0.956709957 0.956709957 0.956709957 0.956709957 0.956709957 \n",
       "        656         657         661         670         672         680 \n",
       "0.956709957 0.956709957 0.956709957 0.956709957 0.956709957 0.833333333 \n",
       "        683         685         686         687         689         694 \n",
       "0.956709957 0.956709957 0.956709957 0.956709957 0.956709957 0.956709957 \n",
       "        695         699         703         709         710         711 \n",
       "0.956709957 0.956709957 0.956709957 0.956709957 0.956709957 0.956709957 \n",
       "        712         713         719         722         727         728 \n",
       "0.956709957 0.956709957 0.956709957 0.956709957 0.956709957 0.956709957 \n",
       "        730         733         735         736         740         747 \n",
       "0.956709957 0.956709957 0.956709957 0.956709957 0.956709957 0.956709957 \n",
       "        749         751         752         753         756         757 \n",
       "0.894736842 0.956709957 0.956709957 0.956709957 0.956709957 0.956709957 \n",
       "        759         765         767         768         775         779 \n",
       "0.956709957 0.956709957 0.956709957 0.956709957 0.956709957 0.956709957 \n",
       "        784         785         789         791         794         796 \n",
       "0.956709957 0.956709957 0.956709957 0.956709957 0.956709957 0.956709957 \n",
       "        798         799         803         805         806         807 \n",
       "0.956709957 0.956709957 0.956709957 0.956709957 0.956709957 0.956709957 \n",
       "        808         809         812         814         815         816 \n",
       "0.956709957 0.956709957 0.956709957 0.956709957 0.956709957 0.956709957 \n",
       "        819         823         824         827         828         834 \n",
       "0.956709957 0.956709957 0.894736842 0.956709957 0.956709957 0.956709957 \n",
       "        836         837         838         840         848         853 \n",
       "0.956709957 0.833333333 0.007575758 0.956709957 0.956709957 0.956709957 \n",
       "        854         855         856         858         859         863 \n",
       "0.956709957 0.956709957 0.956709957 0.956709957 0.956709957 0.956709957 \n",
       "        864         865         866         869         871         874 \n",
       "0.956709957 0.956709957 0.956709957 0.956709957 0.956709957 0.956709957 \n",
       "        877         878         881         883         888         889 \n",
       "0.956709957 0.956709957 0.956709957 0.956709957 0.956709957 0.956709957 \n",
       "        891         893         897         901         902         903 \n",
       "0.956709957 0.956709957 0.956709957 0.956709957 0.956709957 0.956709957 \n",
       "        905         906         908         909         910         913 \n",
       "0.956709957 0.956709957 0.894736842 0.956709957 0.956709957 0.956709957 "
      ]
     },
     "metadata": {},
     "output_type": "display_data"
    }
   ],
   "source": [
    "pred_over[,2]"
   ]
  },
  {
   "cell_type": "code",
   "execution_count": 27,
   "id": "05a3b796",
   "metadata": {},
   "outputs": [],
   "source": [
    "f_res = c()\n",
    "for(i in pred_over[,2]) {\n",
    "    if(i >= 0.5) f_res <- c(f_res, \"malignant\") else\n",
    "        f_res <- c(f_res, \"benign\")\n",
    "}\n",
    "f_res = factor(f_res)"
   ]
  },
  {
   "cell_type": "code",
   "execution_count": 29,
   "id": "796e1139",
   "metadata": {},
   "outputs": [
    {
     "data": {
      "text/html": [
       "<style>\n",
       ".dl-inline {width: auto; margin:0; padding: 0}\n",
       ".dl-inline>dt, .dl-inline>dd {float: none; width: auto; display: inline-block}\n",
       ".dl-inline>dt::after {content: \":\\0020\"; padding-right: .5ex}\n",
       ".dl-inline>dt:not(:first-of-type) {padding-left: .5ex}\n",
       "</style><dl class=dl-inline><dt>benign</dt><dd>168</dd><dt>malignant</dt><dd>198</dd></dl>\n"
      ],
      "text/latex": [
       "\\begin{description*}\n",
       "\\item[benign] 168\n",
       "\\item[malignant] 198\n",
       "\\end{description*}\n"
      ],
      "text/markdown": [
       "benign\n",
       ":   168malignant\n",
       ":   198\n",
       "\n"
      ],
      "text/plain": [
       "   benign malignant \n",
       "      168       198 "
      ]
     },
     "metadata": {},
     "output_type": "display_data"
    }
   ],
   "source": [
    "summary(f_res)"
   ]
  },
  {
   "cell_type": "code",
   "execution_count": 30,
   "id": "7b355fde",
   "metadata": {},
   "outputs": [
    {
     "data": {
      "text/html": [
       "<style>\n",
       ".dl-inline {width: auto; margin:0; padding: 0}\n",
       ".dl-inline>dt, .dl-inline>dd {float: none; width: auto; display: inline-block}\n",
       ".dl-inline>dt::after {content: \":\\0020\"; padding-right: .5ex}\n",
       ".dl-inline>dt:not(:first-of-type) {padding-left: .5ex}\n",
       "</style><dl class=dl-inline><dt>benign</dt><dd>183</dd><dt>malignant</dt><dd>183</dd></dl>\n"
      ],
      "text/latex": [
       "\\begin{description*}\n",
       "\\item[benign] 183\n",
       "\\item[malignant] 183\n",
       "\\end{description*}\n"
      ],
      "text/markdown": [
       "benign\n",
       ":   183malignant\n",
       ":   183\n",
       "\n"
      ],
      "text/plain": [
       "   benign malignant \n",
       "      183       183 "
      ]
     },
     "metadata": {},
     "output_type": "display_data"
    }
   ],
   "source": [
    "summary(test$Class)"
   ]
  },
  {
   "cell_type": "code",
   "execution_count": 32,
   "id": "17dc246d",
   "metadata": {},
   "outputs": [
    {
     "data": {
      "text/html": [
       "366"
      ],
      "text/latex": [
       "366"
      ],
      "text/markdown": [
       "366"
      ],
      "text/plain": [
       "[1] 366"
      ]
     },
     "metadata": {},
     "output_type": "display_data"
    },
    {
     "data": {
      "text/html": [
       "366"
      ],
      "text/latex": [
       "366"
      ],
      "text/markdown": [
       "366"
      ],
      "text/plain": [
       "[1] 366"
      ]
     },
     "metadata": {},
     "output_type": "display_data"
    }
   ],
   "source": [
    "length(test$Class) ; length(f_res)"
   ]
  },
  {
   "cell_type": "code",
   "execution_count": null,
   "id": "62967ea4",
   "metadata": {},
   "outputs": [],
   "source": []
  }
 ],
 "metadata": {
  "kernelspec": {
   "display_name": "R",
   "language": "R",
   "name": "ir"
  },
  "language_info": {
   "codemirror_mode": "r",
   "file_extension": ".r",
   "mimetype": "text/x-r-source",
   "name": "R",
   "pygments_lexer": "r",
   "version": "4.1.0"
  }
 },
 "nbformat": 4,
 "nbformat_minor": 5
}
